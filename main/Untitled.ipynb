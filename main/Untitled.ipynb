{
 "cells": [
  {
   "cell_type": "code",
   "execution_count": 4,
   "id": "99a33335",
   "metadata": {},
   "outputs": [],
   "source": [
    "import pandas as pd\n",
    "import numpy as np\n",
    "\n",
    "import seaborn as sns\n",
    "import matplotlib.pyplot as plt"
   ]
  },
  {
   "cell_type": "code",
   "execution_count": 2,
   "id": "81fabdaa",
   "metadata": {},
   "outputs": [],
   "source": [
    "df = pd.read_csv('../data.csv')"
   ]
  },
  {
   "cell_type": "code",
   "execution_count": 3,
   "id": "be2b5bf3",
   "metadata": {},
   "outputs": [
    {
     "data": {
      "text/html": [
       "<div>\n",
       "<style scoped>\n",
       "    .dataframe tbody tr th:only-of-type {\n",
       "        vertical-align: middle;\n",
       "    }\n",
       "\n",
       "    .dataframe tbody tr th {\n",
       "        vertical-align: top;\n",
       "    }\n",
       "\n",
       "    .dataframe thead th {\n",
       "        text-align: right;\n",
       "    }\n",
       "</style>\n",
       "<table border=\"1\" class=\"dataframe\">\n",
       "  <thead>\n",
       "    <tr style=\"text-align: right;\">\n",
       "      <th></th>\n",
       "      <th>title</th>\n",
       "      <th>year</th>\n",
       "      <th>certificate</th>\n",
       "      <th>rating</th>\n",
       "      <th>description</th>\n",
       "      <th>director</th>\n",
       "      <th>writer</th>\n",
       "      <th>actors</th>\n",
       "      <th>genres</th>\n",
       "    </tr>\n",
       "  </thead>\n",
       "  <tbody>\n",
       "    <tr>\n",
       "      <th>0</th>\n",
       "      <td>Transformers: Revenge of the Fallen</td>\n",
       "      <td>2009</td>\n",
       "      <td>2009</td>\n",
       "      <td>5.9</td>\n",
       "      <td>Sam Witwicky leaves the Autobots behind for a ...</td>\n",
       "      <td>Michael Bay</td>\n",
       "      <td>['Michael Bay', 'Ehren Kruger']</td>\n",
       "      <td>['Shia LaBeouf', 'Megan Fox', 'Josh Duhamel', ...</td>\n",
       "      <td>Michael Bay</td>\n",
       "    </tr>\n",
       "    <tr>\n",
       "      <th>1</th>\n",
       "      <td>Jack and Jill</td>\n",
       "      <td>2011</td>\n",
       "      <td>2011</td>\n",
       "      <td>3.3</td>\n",
       "      <td>Family guy, Jack Sadelstein, prepares for the ...</td>\n",
       "      <td>Dennis Dugan</td>\n",
       "      <td>['Dennis Dugan', 'Ben Zook']</td>\n",
       "      <td>['Adam Sandler', 'Katie Holmes', 'Al Pacino', ...</td>\n",
       "      <td>Dennis Dugan</td>\n",
       "    </tr>\n",
       "    <tr>\n",
       "      <th>2</th>\n",
       "      <td>Troll 2</td>\n",
       "      <td>1990</td>\n",
       "      <td>1990</td>\n",
       "      <td>2.9</td>\n",
       "      <td>A vacationing family discovers that the entire...</td>\n",
       "      <td>Claudio Fragasso</td>\n",
       "      <td>['Claudio Fragasso', 'Rossella Drudi']</td>\n",
       "      <td>['Michael Paul Stephenson', 'George Hardy', 'M...</td>\n",
       "      <td>Claudio Fragasso</td>\n",
       "    </tr>\n",
       "    <tr>\n",
       "      <th>3</th>\n",
       "      <td>Teenage Mutant Ninja Turtles</td>\n",
       "      <td>2014</td>\n",
       "      <td>2014</td>\n",
       "      <td>5.8</td>\n",
       "      <td>When a kingpin threatens New York City, a grou...</td>\n",
       "      <td>Jonathan Liebesman</td>\n",
       "      <td>['Jonathan Liebesman', 'Josh Appelbaum']</td>\n",
       "      <td>['Megan Fox', 'Will Arnett', 'William Fichtner...</td>\n",
       "      <td>Jonathan Liebesman</td>\n",
       "    </tr>\n",
       "    <tr>\n",
       "      <th>4</th>\n",
       "      <td>Dionysus in '69</td>\n",
       "      <td>1970</td>\n",
       "      <td>1970</td>\n",
       "      <td>5.2</td>\n",
       "      <td>Filmed stageplay based on the ancient greek pl...</td>\n",
       "      <td>Brian De Palma</td>\n",
       "      <td>['Brian De Palma', 'Richard Schechner']</td>\n",
       "      <td>['Remi Barclay', 'Samuel Blazer', 'Jason Bosse...</td>\n",
       "      <td>Brian De Palma</td>\n",
       "    </tr>\n",
       "  </tbody>\n",
       "</table>\n",
       "</div>"
      ],
      "text/plain": [
       "                                 title  year  certificate  rating  \\\n",
       "0  Transformers: Revenge of the Fallen  2009         2009     5.9   \n",
       "1                        Jack and Jill  2011         2011     3.3   \n",
       "2                              Troll 2  1990         1990     2.9   \n",
       "3         Teenage Mutant Ninja Turtles  2014         2014     5.8   \n",
       "4                      Dionysus in '69  1970         1970     5.2   \n",
       "\n",
       "                                         description            director  \\\n",
       "0  Sam Witwicky leaves the Autobots behind for a ...         Michael Bay   \n",
       "1  Family guy, Jack Sadelstein, prepares for the ...        Dennis Dugan   \n",
       "2  A vacationing family discovers that the entire...    Claudio Fragasso   \n",
       "3  When a kingpin threatens New York City, a grou...  Jonathan Liebesman   \n",
       "4  Filmed stageplay based on the ancient greek pl...      Brian De Palma   \n",
       "\n",
       "                                     writer  \\\n",
       "0           ['Michael Bay', 'Ehren Kruger']   \n",
       "1              ['Dennis Dugan', 'Ben Zook']   \n",
       "2    ['Claudio Fragasso', 'Rossella Drudi']   \n",
       "3  ['Jonathan Liebesman', 'Josh Appelbaum']   \n",
       "4   ['Brian De Palma', 'Richard Schechner']   \n",
       "\n",
       "                                              actors              genres  \n",
       "0  ['Shia LaBeouf', 'Megan Fox', 'Josh Duhamel', ...         Michael Bay  \n",
       "1  ['Adam Sandler', 'Katie Holmes', 'Al Pacino', ...        Dennis Dugan  \n",
       "2  ['Michael Paul Stephenson', 'George Hardy', 'M...    Claudio Fragasso  \n",
       "3  ['Megan Fox', 'Will Arnett', 'William Fichtner...  Jonathan Liebesman  \n",
       "4  ['Remi Barclay', 'Samuel Blazer', 'Jason Bosse...      Brian De Palma  "
      ]
     },
     "execution_count": 3,
     "metadata": {},
     "output_type": "execute_result"
    }
   ],
   "source": [
    "df.head()"
   ]
  },
  {
   "cell_type": "code",
   "execution_count": 6,
   "id": "4100a114",
   "metadata": {},
   "outputs": [
    {
     "data": {
      "image/png": "[encoded data removed]",
      "text/plain": [
       "<Figure size 432x288 with 1 Axes>"
      ]
     },
     "metadata": {
      "needs_background": "light"
     },
     "output_type": "display_data"
    }
   ],
   "source": [
    "sns.histplot(df.isna().sum());"
   ]
  },
  {
   "cell_type": "code",
   "execution_count": null,
   "id": "bbfc8796",
   "metadata": {},
   "outputs": [],
   "source": []
  },
  {
   "cell_type": "code",
   "execution_count": null,
   "id": "81950224",
   "metadata": {},
   "outputs": [],
   "source": []
  },
  {
   "cell_type": "code",
   "execution_count": null,
   "id": "f528b282",
   "metadata": {},
   "outputs": [],
   "source": []
  }
 ],
 "metadata": {
  "kernelspec": {
   "display_name": "Python 3 (ipykernel)",
   "language": "python",
   "name": "python3"
  },
  "language_info": {
   "codemirror_mode": {
    "name": "ipython",
    "version": 3
   },
   "file_extension": ".py",
   "mimetype": "text/x-python",
   "name": "python",
   "nbconvert_exporter": "python",
   "pygments_lexer": "ipython3",
   "version": "3.9.12"
  }
 },
 "nbformat": 4,
 "nbformat_minor": 5
}
